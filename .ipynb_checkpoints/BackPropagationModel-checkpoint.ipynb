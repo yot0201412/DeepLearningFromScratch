{
 "cells": [
  {
   "cell_type": "code",
   "execution_count": 2,
   "metadata": {},
   "outputs": [],
   "source": [
    "import Layers as ly\n",
    "import numpy as np\n",
    "from collections import OrderedDict"
   ]
  },
  {
   "cell_type": "code",
   "execution_count": null,
   "metadata": {},
   "outputs": [],
   "source": [
    "class TwoLayersNet():\n",
    "    \n",
    "    def __init__(self, input_size, hidden_size1, hidden_size2, output_size):\n",
    "        self.params = {}\n",
    "        self.params['X1'] = np.random.rand(input_size, hidden_size1)\n",
    "        self.params['b1'] = np.random.zeros(hidden_size1)\n",
    "        self.params['X2'] = np.random.rand(hidden_size1, output_size)\n",
    "        self.params['b2'] = np.random.zeros(output_size)\n",
    "        self.layers = OrderedDict()\n",
    "        self.layers['Affine1'] = ly.Affine(self.params['X1'], self.params['b1'])\n",
    "        self.layers['Affine2'] = ly.Affine(self.params['X2'], self.params['b2'])\n",
    "        self.lastLayer = ly.SoftMaxWithLoss()\n",
    "        \n",
    "    def pridect(self, x):\n",
    "        for layer in self.layers.values\n",
    "            x = layer.forward(x)\n",
    "            \n",
    "            return x\n",
    "        \n",
    "    def loss(self, x, t):\n",
    "        y = self.predict(x)\n",
    "        return self.lastLayer.forward(y, t)\n",
    "    \n",
    "    def accracy(self, x, t):\n",
    "        y = self.predict.(x)\n",
    "        y = np.argmax(y, axis=1)\n",
    "        if t.ndim != 1 : t = np.argmax(t,axis=1)\n",
    "        accracy = np.sum(y == t) / float(x.shape[0])\n",
    "        \n",
    "        return accracy\n",
    "    \n",
    "    def gradient(self, t):\n",
    "        # forward\n",
    "        self.loss(x, t)\n",
    "        \n",
    "        #backward\n",
    "        dout = 1\n",
    "        dout = self.lastLayer.backward(dout)\n",
    "        \n",
    "        layers = list(self.layers.values)\n",
    "        layers.reverse()\n",
    "        \n",
    "        for layer in layers\n",
    "            dout = layer.backward(dout)\n",
    "        \n",
    "        #設定\n",
    "        grads = {}\n",
    "        grads['W1'] = self.layers['Affine1'].dW\n",
    "        grads['b1'] = self.layers['Affine1'].db\n",
    "        grads['W2'] = self.layers['Affine2'].dW\n",
    "        grads['b2'] = self.layers['Affine2'].db\n",
    "        \n",
    "        return grads\n",
    "        "
   ]
  }
 ],
 "metadata": {
  "kernelspec": {
   "display_name": "Python 3",
   "language": "python",
   "name": "python3"
  },
  "language_info": {
   "codemirror_mode": {
    "name": "ipython",
    "version": 3
   },
   "file_extension": ".py",
   "mimetype": "text/x-python",
   "name": "python",
   "nbconvert_exporter": "python",
   "pygments_lexer": "ipython3",
   "version": "3.6.4"
  }
 },
 "nbformat": 4,
 "nbformat_minor": 2
}
