{
 "cells": [
  {
   "cell_type": "code",
   "execution_count": 1,
   "metadata": {},
   "outputs": [],
   "source": [
    "import numpy as np\n",
    "import common\n",
    "import gradient\n",
    "import models\n",
    "from matplotlib import pylab as plt "
   ]
  },
  {
   "cell_type": "code",
   "execution_count": 2,
   "metadata": {},
   "outputs": [],
   "source": [
    "def cir_fanc(x):\n",
    "    return x[0] ** 2 + x[1] ** 2"
   ]
  },
  {
   "cell_type": "code",
   "execution_count": 280,
   "metadata": {},
   "outputs": [],
   "source": [
    "def diff(f, x):\n",
    "    h = 1e-4\n",
    "    return (f(x+h) - f(x-h)) / (2*h)"
   ]
  },
  {
   "cell_type": "code",
   "execution_count": 18,
   "metadata": {},
   "outputs": [],
   "source": [
    "def gradi_dicent(fanc,init_x, learning_rate, step):\n",
    "    x = init_x\n",
    "    for i in range(step):\n",
    "        grad = gradient.gradi_2(fanc, x)\n",
    "        x = x - learning_rate * grad\n",
    "    return x"
   ]
  },
  {
   "cell_type": "code",
   "execution_count": 2,
   "metadata": {},
   "outputs": [],
   "source": [
    "from sklearn.datasets import load_iris"
   ]
  },
  {
   "cell_type": "code",
   "execution_count": 3,
   "metadata": {},
   "outputs": [],
   "source": [
    "iris_dataset = load_iris()\n",
    "data = iris_dataset['data']\n",
    "target = iris_dataset['target']"
   ]
  },
  {
   "cell_type": "code",
   "execution_count": 4,
   "metadata": {},
   "outputs": [],
   "source": [
    "target_one_hot = np.zeros(3 * len(target)).reshape(len(target), 3)\n",
    "for toh, t in zip(target_one_hot, target):\n",
    "    toh[t] = 1"
   ]
  },
  {
   "cell_type": "code",
   "execution_count": 22,
   "metadata": {
    "scrolled": true
   },
   "outputs": [
    {
     "name": "stdout",
     "output_type": "stream",
     "text": [
      "0\n",
      "500\n",
      "1000\n",
      "1500\n",
      "2000\n",
      "2500\n",
      "3000\n",
      "3500\n",
      "4000\n",
      "4500\n",
      "fin\n"
     ]
    },
    {
     "data": {
      "text/plain": [
       "0.9733333333333334"
      ]
     },
     "execution_count": 22,
     "metadata": {},
     "output_type": "execute_result"
    }
   ],
   "source": [
    "tN = models.twoLayerNet(4, 5, 3)\n",
    "epoch_num = 5000\n",
    "batch_size = 10\n",
    "learning_rate = 0.005\n",
    "\n",
    "for i in range(epoch_num):\n",
    "    if i % 500 == 0:\n",
    "        print(i)\n",
    "    choice = np.random.randint(0, data.shape[0], batch_size)\n",
    "    batch = data[choice]\n",
    "    y = target_one_hot[choice]\n",
    "    decents = tN.decent(batch, y)\n",
    "    for key in ('W1','b1','W2','b2'):\n",
    "        tN.W[key] = tN.W[key] - learning_rate * decents[key]\n",
    "print('fin')\n",
    "tN.accuracy(data, target_one_hot)"
   ]
  },
  {
   "cell_type": "code",
   "execution_count": 6,
   "metadata": {
    "collapsed": true
   },
   "outputs": [
    {
     "name": "stdout",
     "output_type": "stream",
     "text": [
      "[[ 4.39895135 10.14974186 13.73622872  8.17954702 10.21041062]\n",
      " [ 4.51257927  9.98782227 13.29606943  7.73424094  9.59102841]\n",
      " [ 3.88257573  9.10147423 12.07165505  7.07038493  8.81254292]\n",
      " [ 4.34706707  9.27972114 12.56038429  7.3828139   9.07235903]\n",
      " [ 3.88257573  9.10147423 12.07165505  7.07038493  8.81254292]\n",
      " [ 0.94621167  4.26177432  6.82874842  4.9687288   6.34018342]\n",
      " [ 3.39414016  8.34011782 11.23117997  6.73160353  8.4028319 ]\n",
      " [ 3.53471272  8.74285617 11.87332792  7.17946606  8.97908264]]\n"
     ]
    },
    {
     "data": {
      "text/plain": [
       "array([[28.72367581, 17.313274  , 18.00831874],\n",
       "       [27.600587  , 16.61116801, 17.5386634 ],\n",
       "       [25.10724468, 15.0822893 , 15.90998954],\n",
       "       [26.1333552 , 15.75574363, 16.49915627],\n",
       "       [25.10724468, 15.0822893 , 15.90998954],\n",
       "       [15.205427  ,  9.22676644,  8.4104273 ],\n",
       "       [23.51113473, 14.12784886, 14.70992604],\n",
       "       [24.92699781, 14.9961669 , 15.51075159]])"
      ]
     },
     "execution_count": 6,
     "metadata": {},
     "output_type": "execute_result"
    }
   ],
   "source": [
    "batch_size= 10\n",
    "choice = np.random.randint(0, data.shape[0], batch_size)\n",
    "batch = data[choice]\n",
    "y = target_one_hot[choice]\n",
    "# decents = tN.predict(batch[[0, 1]])\n",
    "z1 = np.dot(batch[[0, 1, 4, 2, 4,6,8,9]], tN.W['W1']) + tN.W['b1']\n",
    "common.elu(z1)\n",
    "print(z1)\n",
    "np.dot( z1, tN.W['W2'])"
   ]
  },
  {
   "cell_type": "code",
   "execution_count": 21,
   "metadata": {},
   "outputs": [
    {
     "data": {
      "text/plain": [
       "0.98"
      ]
     },
     "execution_count": 21,
     "metadata": {},
     "output_type": "execute_result"
    }
   ],
   "source": [
    "tN.accuracy(data, target_one_hot)"
   ]
  },
  {
   "cell_type": "code",
   "execution_count": 10,
   "metadata": {},
   "outputs": [
    {
     "data": {
      "text/plain": [
       "array([0., 0., 1.])"
      ]
     },
     "execution_count": 10,
     "metadata": {},
     "output_type": "execute_result"
    }
   ],
   "source": [
    "target_one_hot[100]"
   ]
  },
  {
   "cell_type": "code",
   "execution_count": 16,
   "metadata": {},
   "outputs": [
    {
     "data": {
      "text/plain": [
       "array([8.06253724e-03, 1.05435506e-03, 9.16322972e-05])"
      ]
     },
     "execution_count": 16,
     "metadata": {},
     "output_type": "execute_result"
    }
   ],
   "source": [
    "tN.predict(data)[0]"
   ]
  },
  {
   "cell_type": "code",
   "execution_count": null,
   "metadata": {},
   "outputs": [],
   "source": []
  }
 ],
 "metadata": {
  "kernelspec": {
   "display_name": "Python 3",
   "language": "python",
   "name": "python3"
  },
  "language_info": {
   "codemirror_mode": {
    "name": "ipython",
    "version": 3
   },
   "file_extension": ".py",
   "mimetype": "text/x-python",
   "name": "python",
   "nbconvert_exporter": "python",
   "pygments_lexer": "ipython3",
   "version": "3.6.4"
  }
 },
 "nbformat": 4,
 "nbformat_minor": 2
}
